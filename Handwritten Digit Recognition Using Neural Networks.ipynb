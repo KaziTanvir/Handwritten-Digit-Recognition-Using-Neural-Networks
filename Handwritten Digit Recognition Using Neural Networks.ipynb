{
 "cells": [
  {
   "cell_type": "markdown",
   "metadata": {},
   "source": [
    "# Task 1: Introduction\n",
    "\n",
    "Welcome to Basic Image Classification with TensorFlow.\n",
    "\n",
    "This graph describes the problem that we are trying to solve visually. We want to create and train a model that takes an image of a hand written digit as input and predicts the class of that digit, that is, it predicts the digit or it predicts the class of the input image.\n",
    "\n",
    "![Hand Written Digits Classification](images/1_1.png)"
   ]
  },
  {
   "cell_type": "markdown",
   "metadata": {},
   "source": [
    "### Import TensorFlow"
   ]
  },
  {
   "cell_type": "code",
   "execution_count": 30,
   "metadata": {},
   "outputs": [
    {
     "name": "stdout",
     "output_type": "stream",
     "text": [
      "Using TensorFlow version 2.9.1\n"
     ]
    }
   ],
   "source": [
    "import tensorflow as tf\n",
    "\n",
    "\n",
    "print('Using TensorFlow version', tf.__version__)"
   ]
  },
  {
   "cell_type": "markdown",
   "metadata": {},
   "source": [
    "# Task 2: The Dataset\n",
    "### Import MNIST"
   ]
  },
  {
   "cell_type": "code",
   "execution_count": 31,
   "metadata": {},
   "outputs": [],
   "source": [
    "from tensorflow.keras.datasets import mnist\n",
    "(x_train, y_train), (x_test, y_test) = mnist.load_data()"
   ]
  },
  {
   "cell_type": "markdown",
   "metadata": {},
   "source": [
    "### Shapes of Imported Arrays"
   ]
  },
  {
   "cell_type": "code",
   "execution_count": 32,
   "metadata": {},
   "outputs": [
    {
     "name": "stdout",
     "output_type": "stream",
     "text": [
      "x_train = (60000, 28, 28)\n",
      "y_train = (60000,)\n",
      "x_test = (10000, 28, 28)\n",
      "y_test = (10000,)\n"
     ]
    }
   ],
   "source": [
    "print(f\"x_train = {x_train.shape}\")\n",
    "print(f\"y_train = {y_train.shape}\")\n",
    "print(f\"x_test = {x_test.shape}\")\n",
    "print(f\"y_test = {y_test.shape}\")"
   ]
  },
  {
   "cell_type": "markdown",
   "metadata": {},
   "source": [
    "### Plot an Image Example"
   ]
  },
  {
   "cell_type": "code",
   "execution_count": 33,
   "metadata": {},
   "outputs": [
    {
     "data": {
      "image/png": "[encoded data removed]",
      "text/plain": [
       "<Figure size 432x288 with 1 Axes>"
      ]
     },
     "metadata": {
      "needs_background": "light"
     },
     "output_type": "display_data"
    }
   ],
   "source": [
    "import matplotlib.pyplot as plt\n",
    "\n",
    "plt.imshow(x_train[10],cmap='binary')\n",
    "plt.show()"
   ]
  },
  {
   "cell_type": "markdown",
   "metadata": {},
   "source": [
    "### Display Labels"
   ]
  },
  {
   "cell_type": "code",
   "execution_count": 34,
   "metadata": {},
   "outputs": [
    {
     "data": {
      "text/plain": [
       "3"
      ]
     },
     "execution_count": 34,
     "metadata": {},
     "output_type": "execute_result"
    }
   ],
   "source": [
    "y_train[10]"
   ]
  },
  {
   "cell_type": "code",
   "execution_count": 35,
   "metadata": {},
   "outputs": [
    {
     "name": "stdout",
     "output_type": "stream",
     "text": [
      "{0, 1, 2, 3, 4, 5, 6, 7, 8, 9}\n"
     ]
    }
   ],
   "source": [
    "print(set(y_train))"
   ]
  },
  {
   "cell_type": "markdown",
   "metadata": {},
   "source": [
    "# Task 3: One Hot Encoding\n",
    "After this encoding, every label will be converted to a list with 10 elements and the element at index to the corresponding class will be set to 1, rest will be set to 0:\n",
    "\n",
    "| original label | one-hot encoded label |\n",
    "|------|------|\n",
    "| 5 | [0, 0, 0, 0, 0, 1, 0, 0, 0, 0] |\n",
    "| 7 | [0, 0, 0, 0, 0, 0, 0, 1, 0, 0] |\n",
    "| 1 | [0, 1, 0, 0, 0, 0, 0, 0, 0, 0] |\n",
    "\n",
    "### Encoding Labels"
   ]
  },
  {
   "cell_type": "code",
   "execution_count": 36,
   "metadata": {},
   "outputs": [],
   "source": [
    "from tensorflow.keras.utils import to_categorical\n",
    "\n",
    "y_train_encoded = to_categorical(y_train)\n",
    "y_test_encoded = to_categorical(y_test)"
   ]
  },
  {
   "cell_type": "markdown",
   "metadata": {},
   "source": [
    "### Validated Shapes"
   ]
  },
  {
   "cell_type": "code",
   "execution_count": 37,
   "metadata": {},
   "outputs": [
    {
     "name": "stdout",
     "output_type": "stream",
     "text": [
      "y_train_encoded  = (60000, 10)\n",
      "y_test_encoded = (10000, 10)\n"
     ]
    }
   ],
   "source": [
    "print(f\"y_train_encoded  = {y_train_encoded.shape}\")\n",
    "print(f\"y_test_encoded = {y_test_encoded.shape}\")"
   ]
  },
  {
   "cell_type": "markdown",
   "metadata": {},
   "source": [
    "### Display Encoded Labels"
   ]
  },
  {
   "cell_type": "code",
   "execution_count": 38,
   "metadata": {},
   "outputs": [
    {
     "data": {
      "text/plain": [
       "array([0., 0., 0., 1., 0., 0., 0., 0., 0., 0.], dtype=float32)"
      ]
     },
     "execution_count": 38,
     "metadata": {},
     "output_type": "execute_result"
    }
   ],
   "source": [
    "y_train_encoded[10]"
   ]
  },
  {
   "cell_type": "markdown",
   "metadata": {},
   "source": [
    "# Task 4: Neural Networks\n",
    "\n",
    "### Linear Equations\n",
    "\n",
    "![Single Neuron](images/1_2.png)\n",
    "\n",
    "The above graph simply represents the equation:\n",
    "\n",
    "\\begin{equation}\n",
    "y = w1 * x1 + w2 * x2 + w3 * x3 + b\n",
    "\\end{equation}\n",
    "\n",
    "Where the `w1, w2, w3` are called the weights and `b` is an intercept term called bias. The equation can also be *vectorised* like this:\n",
    "\n",
    "\\begin{equation}\n",
    "y = W . X + b\n",
    "\\end{equation}\n",
    "\n",
    "Where `X = [x1, x2, x3]` and `W = [w1, w2, w3].T`. The .T means *transpose*. This is because we want the dot product to give us the result we want i.e. `w1 * x1 + w2 * x2 + w3 * x3`. This gives us the vectorised version of our linear equation.\n",
    "\n",
    "A simple, linear approach to solving hand-written image classification problem - could it work?\n",
    "\n",
    "![Single Neuron with 784 features](images/1_3.png)\n",
    "\n",
    "### Neural Networks\n",
    "\n",
    "![Neural Network with 2 hidden layers](images/1_4.png)\n",
    "\n",
    "This model is much more likely to solve the problem as it can learn more complex function mapping for the inputs and outputs in our dataset."
   ]
  },
  {
   "cell_type": "markdown",
   "metadata": {},
   "source": [
    "# Task 5: Preprocessing the Examples\n",
    "\n",
    "### Unrolling N-dimensional Arrays to Vectors"
   ]
  },
  {
   "cell_type": "code",
   "execution_count": 39,
   "metadata": {},
   "outputs": [
    {
     "name": "stdout",
     "output_type": "stream",
     "text": [
      "x_train_reshape = (60000, 784)\n",
      "x_ttest_reshape = (10000, 784)\n"
     ]
    }
   ],
   "source": [
    "import numpy as np\n",
    "\n",
    "x_train_reshape = np.reshape(x_train,(60000,784))\n",
    "x_test_reshape = np.reshape(x_test,(10000,784))\n",
    "\n",
    "print(f\"x_train_reshape = {x_train_reshape.shape}\")\n",
    "print(f\"x_ttest_reshape = {x_test_reshape.shape}\")"
   ]
  },
  {
   "cell_type": "markdown",
   "metadata": {},
   "source": [
    "### Display Pixel Values"
   ]
  },
  {
   "cell_type": "code",
   "execution_count": 40,
   "metadata": {},
   "outputs": [
    {
     "name": "stdout",
     "output_type": "stream",
     "text": [
      "{0, 1, 2, 3, 9, 11, 14, 16, 18, 23, 24, 25, 26, 27, 30, 35, 36, 39, 43, 45, 46, 49, 55, 56, 64, 66, 70, 78, 80, 81, 82, 90, 93, 94, 107, 108, 114, 119, 126, 127, 130, 132, 133, 135, 136, 139, 148, 150, 154, 156, 160, 166, 170, 171, 172, 175, 182, 183, 186, 187, 190, 195, 198, 201, 205, 207, 212, 213, 219, 221, 225, 226, 229, 238, 240, 241, 242, 244, 247, 249, 250, 251, 252, 253, 255}\n"
     ]
    }
   ],
   "source": [
    "print(set(x_train_reshape[0]))"
   ]
  },
  {
   "cell_type": "markdown",
   "metadata": {},
   "source": [
    "### Data Normalization"
   ]
  },
  {
   "cell_type": "code",
   "execution_count": 41,
   "metadata": {},
   "outputs": [],
   "source": [
    "x_mean = np.mean(x_train_reshape)\n",
    "x_std = np.std(x_train_reshape)\n",
    "\n",
    "epsilon = 1e-10\n",
    "\n",
    "x_train_norm = (x_train_reshape - x_mean )/ (x_std + epsilon)\n",
    "x_test_norm = (x_test_reshape - x_mean )/ (x_std + epsilon)"
   ]
  },
  {
   "cell_type": "markdown",
   "metadata": {},
   "source": [
    "### Display Normalized Pixel Values"
   ]
  },
  {
   "cell_type": "code",
   "execution_count": 42,
   "metadata": {},
   "outputs": [
    {
     "name": "stdout",
     "output_type": "stream",
     "text": [
      "{-0.4240738943910262, 1.0778195735660674, 2.3633385588513764, 1.6887592893452241, -0.34770642991863165, 0.8869009123850808, 2.6560805059955555, 2.8088154349403447, 0.4159682148053143, 2.5288013985415647, 2.6051688630139593, 2.681536327486354, 1.7523988430722195, -0.19497150097384247, 2.719720059722551, 2.706992148977152, 0.75962180493109, 2.083324522452596, 2.4015222910875735, 0.4668798577869107, 0.09777044617033681, 1.4342010744372422, 0.7214380726948927, 0.11049835691573591, 0.00867507095254312, 0.505063590023108, 1.8287663075446141, 2.426978112578372, 2.7960875241949457, 2.7579037919587486, -0.10587612575604877, 1.2050986810200583, 1.8669500397808114, 0.89962882313048, -0.41134598364562713, 0.912356733875879, -0.029508661283654175, -0.18224359022844336, 0.2250495536243278, 0.2123216428789287, 0.6068868759863008, 2.210603629906587, 2.2487873621427843, 2.197875719161188, 2.2360594513973853, 2.579713041523161, 0.3014170180967224, -0.33497851917323257, 0.6450706082224981, 0.9759962876028746, -0.32225060842783343, -0.11860403650144787, 0.08504253542493771, -0.06769239351985147, 0.03413089244334132, 1.3196498777286503, 1.0014521090936728, 1.3323777884740493, 1.6633034678544258, 1.3451056992194483, 2.299699005124381, 2.6306246845047574, 2.31242691586978, 2.6433525952501564, 2.286971094378982, -0.2840668761916362, 0.7087101619494935, 0.377784482569117, 1.0650916628206684, 2.6178967737593584, 1.3705615207102466, 1.052363752075269, 1.3578336099648476, 0.7341659834402917, 1.676031378599825}\n"
     ]
    }
   ],
   "source": [
    "print(set(x_train_norm[10]))"
   ]
  },
  {
   "cell_type": "markdown",
   "metadata": {},
   "source": [
    "# Task 6: Creating a Model\n",
    "### Creating the Model"
   ]
  },
  {
   "cell_type": "code",
   "execution_count": 43,
   "metadata": {},
   "outputs": [],
   "source": [
    "from tensorflow.keras.models import Sequential\n",
    "from tensorflow.keras.layers import Dense\n",
    "\n",
    "model = Sequential([\n",
    "    Dense(128, activation='relu', input_shape=(784,)),\n",
    "    Dense(128, activation='relu'),\n",
    "    Dense(10, activation='softmax')\n",
    "])"
   ]
  },
  {
   "cell_type": "markdown",
   "metadata": {},
   "source": [
    "### Activation Functions\n",
    "\n",
    "The first step in the node is the linear sum of the inputs:\n",
    "\\begin{equation}\n",
    "Z = W . X + b\n",
    "\\end{equation}\n",
    "\n",
    "The second step in the node is the activation function output:\n",
    "\n",
    "\\begin{equation}\n",
    "A = f(Z)\n",
    "\\end{equation}\n",
    "\n",
    "Graphical representation of a node where the two operations are performed:\n",
    "\n",
    "![ReLU](images/1_5.png)\n",
    "\n",
    "### Compiling the Model"
   ]
  },
  {
   "cell_type": "code",
   "execution_count": 46,
   "metadata": {},
   "outputs": [
    {
     "name": "stdout",
     "output_type": "stream",
     "text": [
      "Model: \"sequential_1\"\n",
      "_________________________________________________________________\n",
      " Layer (type)                Output Shape              Param #   \n",
      "=================================================================\n",
      " dense_3 (Dense)             (None, 128)               100480    \n",
      "                                                                 \n",
      " dense_4 (Dense)             (None, 128)               16512     \n",
      "                                                                 \n",
      " dense_5 (Dense)             (None, 10)                1290      \n",
      "                                                                 \n",
      "=================================================================\n",
      "Total params: 118,282\n",
      "Trainable params: 118,282\n",
      "Non-trainable params: 0\n",
      "_________________________________________________________________\n"
     ]
    }
   ],
   "source": [
    "model.compile(\n",
    "    optimizer = 'sgd',\n",
    "      loss='categorical_crossentropy',\n",
    "    metrics = ['accuracy']\n",
    "\n",
    ")\n",
    "\n",
    "model.summary()"
   ]
  },
  {
   "cell_type": "markdown",
   "metadata": {},
   "source": [
    "# Task 7: Training the Model\n",
    "\n",
    "### Training the Model"
   ]
  },
  {
   "cell_type": "code",
   "execution_count": 49,
   "metadata": {},
   "outputs": [
    {
     "name": "stdout",
     "output_type": "stream",
     "text": [
      "Epoch 1/10\n",
      "1313/1313 - 2s - loss: 0.0769 - accuracy: 0.9775 - val_loss: 0.1064 - val_accuracy: 0.9693 - 2s/epoch - 2ms/step\n",
      "Epoch 2/10\n",
      "1313/1313 - 2s - loss: 0.0680 - accuracy: 0.9805 - val_loss: 0.0994 - val_accuracy: 0.9712 - 2s/epoch - 2ms/step\n",
      "Epoch 3/10\n",
      "1313/1313 - 2s - loss: 0.0601 - accuracy: 0.9835 - val_loss: 0.0933 - val_accuracy: 0.9732 - 2s/epoch - 2ms/step\n",
      "Epoch 4/10\n",
      "1313/1313 - 2s - loss: 0.0533 - accuracy: 0.9851 - val_loss: 0.0917 - val_accuracy: 0.9728 - 2s/epoch - 2ms/step\n",
      "Epoch 5/10\n",
      "1313/1313 - 2s - loss: 0.0475 - accuracy: 0.9873 - val_loss: 0.0907 - val_accuracy: 0.9731 - 2s/epoch - 2ms/step\n",
      "Epoch 6/10\n",
      "1313/1313 - 2s - loss: 0.0426 - accuracy: 0.9890 - val_loss: 0.0891 - val_accuracy: 0.9734 - 2s/epoch - 2ms/step\n",
      "Epoch 7/10\n",
      "1313/1313 - 2s - loss: 0.0382 - accuracy: 0.9903 - val_loss: 0.0919 - val_accuracy: 0.9724 - 2s/epoch - 2ms/step\n",
      "Epoch 8/10\n",
      "1313/1313 - 2s - loss: 0.0343 - accuracy: 0.9915 - val_loss: 0.0891 - val_accuracy: 0.9743 - 2s/epoch - 2ms/step\n",
      "Epoch 9/10\n",
      "1313/1313 - 2s - loss: 0.0305 - accuracy: 0.9929 - val_loss: 0.0890 - val_accuracy: 0.9746 - 2s/epoch - 2ms/step\n",
      "Epoch 10/10\n",
      "1313/1313 - 2s - loss: 0.0276 - accuracy: 0.9945 - val_loss: 0.0944 - val_accuracy: 0.9718 - 2s/epoch - 2ms/step\n",
      "INFO:tensorflow:Assets written to: model.pkl\\assets\n"
     ]
    }
   ],
   "source": [
    "model.fit(x_train_norm , y_train_encoded,batch_size =32,epochs =10, validation_split=.3,verbose =2)\n",
    "model.save(\"model.pkl\")"
   ]
  },
  {
   "cell_type": "markdown",
   "metadata": {},
   "source": [
    "### Evaluating the Model"
   ]
  },
  {
   "cell_type": "code",
   "execution_count": 50,
   "metadata": {},
   "outputs": [
    {
     "name": "stdout",
     "output_type": "stream",
     "text": [
      "313/313 [==============================] - 0s 1ms/step - loss: 0.0941 - accuracy: 0.9707\n",
      "Test Set Accuracy :  97.07000255584717\n"
     ]
    }
   ],
   "source": [
    "_,accuracy = model.evaluate(x_test_norm , y_test_encoded)\n",
    "\n",
    "print(\"Test Set Accuracy : \",accuracy*100)"
   ]
  },
  {
   "cell_type": "markdown",
   "metadata": {},
   "source": [
    "# Task 8: Predictions\n",
    "\n",
    "### Predictions on Test Set"
   ]
  },
  {
   "cell_type": "code",
   "execution_count": 63,
   "metadata": {},
   "outputs": [
    {
     "name": "stdout",
     "output_type": "stream",
     "text": [
      "313/313 [==============================] - 0s 859us/step\n",
      "Accuracy Score: 0.9707\n",
      "Confusion Matrix: \n",
      " [[ 971    0    1    1    1    1    2    0    2    1]\n",
      " [   0 1118    4    1    0    1    2    0    9    0]\n",
      " [   5    0 1008    2    2    1    2    5    5    2]\n",
      " [   0    0    8  989    0    2    0    3    4    4]\n",
      " [   2    1    6    2  937    1    4    2    2   25]\n",
      " [   5    1    0   16    1  850    6    1    8    4]\n",
      " [   7    2    1    1    4    2  936    0    5    0]\n",
      " [   1    6   17    9    1    0    0  970    4   20]\n",
      " [   3    0    6    7    1    5    3    2  946    1]\n",
      " [   4    2    1    7    4    0    1    2    6  982]]\n",
      "Precision:0.9707\n",
      "Recall: 0.9707\n"
     ]
    }
   ],
   "source": [
    "from sklearn.metrics import accuracy_score\n",
    "from sklearn.metrics import confusion_matrix\n",
    "from sklearn.metrics import precision_score,recall_score\n",
    "\n",
    "y_pred = model.predict(x_test_norm)\n",
    "\n",
    "yt = np.argmax(y_pred,axis = 1)\n",
    "\n",
    "print(f\"Accuracy Score: {accuracy_score( y_test ,yt)}\")\n",
    "print(f\"Confusion Matrix: \\n {confusion_matrix( y_test, yt)}\")\n",
    "#confusion_matrix( test_labels, yt)\n",
    "p_score= precision_score(y_test, yt,average='micro')\n",
    "print(f\"Precision:{p_score}\")\n",
    "\n",
    "\n",
    "print(f\"Recall: {recall_score(y_test,yt,average='micro')}\")"
   ]
  },
  {
   "cell_type": "markdown",
   "metadata": {},
   "source": [
    "### Plotting the Results"
   ]
  },
  {
   "cell_type": "code",
   "execution_count": 69,
   "metadata": {},
   "outputs": [
    {
     "data": {
      "image/png": "[encoded data removed]",
      "text/plain": [
       "<Figure size 864x864 with 25 Axes>"
      ]
     },
     "metadata": {},
     "output_type": "display_data"
    }
   ],
   "source": [
    "plt.figure(figsize=(12,12))\n",
    "\n",
    "start_index = 0\n",
    "\n",
    "for i in range(25):\n",
    "    plt.subplot(5,5,i+1)\n",
    "    plt.xticks([])\n",
    "    plt.yticks([])\n",
    "    \n",
    "    pred = np.argmax(y_pred[start_index +i])\n",
    "    gt= y_test[start_index+i]\n",
    "    \n",
    "    col = 'g'\n",
    "    \n",
    "    if pred != gt:\n",
    "        col = 'r'\n",
    "    \n",
    "    plt.xlabel('i = {} , pred = {} , gt = {}'.format(start_index + i, pred,gt),color=col)\n",
    "    plt.imshow(x_test[start_index + i],cmap='binary')\n",
    "\n",
    "plt.show()"
   ]
  },
  {
   "cell_type": "code",
   "execution_count": 76,
   "metadata": {},
   "outputs": [
    {
     "data": {
      "image/png": "[encoded data removed]",
      "text/plain": [
       "<Figure size 864x864 with 25 Axes>"
      ]
     },
     "metadata": {},
     "output_type": "display_data"
    }
   ],
   "source": [
    "plt.figure(figsize=(12,12))\n",
    "for i in range(25):\n",
    "    plt.subplot(5,5,i+1)\n",
    "    plt.xticks([])\n",
    "    plt.yticks([])\n",
    "    plt.grid()\n",
    "    \n",
    "    pred = np.argmax(y_pred[start_index +i])\n",
    "    gt= y_test[start_index+i]\n",
    "    \n",
    "    plt.plot(y_pred[i])\n",
    "    col = 'g'\n",
    "    \n",
    "    if pred != gt:\n",
    "        col = 'r'\n",
    "        \n",
    "    plt.xlabel('i = {} , pred = {} , gt = {}'.format(start_index + i, pred,gt),color=col)\n",
    "\n",
    "plt.show()"
   ]
  },
  {
   "cell_type": "code",
   "execution_count": null,
   "metadata": {},
   "outputs": [],
   "source": []
  }
 ],
 "metadata": {
  "kernelspec": {
   "display_name": "Python 3 (ipykernel)",
   "language": "python",
   "name": "python3"
  },
  "language_info": {
   "codemirror_mode": {
    "name": "ipython",
    "version": 3
   },
   "file_extension": ".py",
   "mimetype": "text/x-python",
   "name": "python",
   "nbconvert_exporter": "python",
   "pygments_lexer": "ipython3",
   "version": "3.10.5"
  }
 },
 "nbformat": 4,
 "nbformat_minor": 2
}
